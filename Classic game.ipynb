{
  "nbformat": 4,
  "nbformat_minor": 2,
  "metadata": {
    "colab": {
      "name": "Jogo-1",
      "provenance": [],
      "collapsed_sections": [],
      "authorship_tag": "ABX9TyNNW2S+3ZfOn1SHyLE+q5rm",
      "include_colab_link": true
    },
    "kernelspec": {
      "name": "python3",
      "display_name": "Python 3"
    },
    "language_info": {
      "name": "python"
    }
  },
  "cells": [
    {
      "cell_type": "markdown",
      "source": [
        "<a href=\"https://colab.research.google.com/github/Guga-innecco/Guga-Games/blob/main/Jogo-1.ipynb\" target=\"_parent\"><img src=\"https://colab.research.google.com/assets/colab-badge.svg\" alt=\"Open In Colab\"/></a>"
      ],
      "metadata": {
        "id": "view-in-github",
        "colab_type": "text"
      }
    },
    {
      "cell_type": "code",
      "execution_count": null,
      "source": [
        "from random import randint\n",
        "numero = randint(0 ,100)\n",
        "contador = 0\n",
        "while True:\n",
        "  escolha = input('Escoler numeró 0 á 100')\n",
        "  if escolha == numero:\n",
        "    print('parabems, você venseu')\n",
        "  else:\n",
        "    print('tente de novo')\n",
        "    contador = contador + 1\n",
        "  if contador == 5:\n",
        "    break\n",
        "print('você perdeu')"
      ],
      "outputs": [],
      "metadata": {
        "id": "skrNSuAe4Fj2"
      }
    }
  ]
}